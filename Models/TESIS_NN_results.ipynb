{
 "cells": [
  {
   "cell_type": "code",
   "execution_count": 1,
   "metadata": {},
   "outputs": [
    {
     "name": "stdout",
     "output_type": "stream",
     "text": [
      "WARNING:tensorflow:From c:\\Users\\Indatech\\anaconda3\\envs\\tesis\\lib\\site-packages\\keras\\src\\losses.py:2976: The name tf.losses.sparse_softmax_cross_entropy is deprecated. Please use tf.compat.v1.losses.sparse_softmax_cross_entropy instead.\n",
      "\n"
     ]
    }
   ],
   "source": [
    "import pandas as pd\n",
    "import tensorflow as tf\n",
    "import matplotlib.pyplot as plt\n",
    "import numpy as np\n",
    "import os\n",
    "import pandas as pd\n",
    "from tensorflow.keras import layers, Sequential, optimizers, Input, Model\n",
    "from tensorflow.keras.layers import Dense, LeakyReLU\n",
    "import tensorflow as tf\n",
    "from tensorflow.keras.models import load_model"
   ]
  },
  {
   "cell_type": "code",
   "execution_count": 2,
   "metadata": {},
   "outputs": [
    {
     "name": "stdout",
     "output_type": "stream",
     "text": [
      "      channel1  channel2  channel3  channel4  class  label\n",
      "2287  -0.00001   0.00000  -0.00001   0.00000      1      1\n",
      "2288  -0.00001  -0.00002   0.00000  -0.00001      1      1\n",
      "2289  -0.00001  -0.00002   0.00000  -0.00001      1      1\n",
      "2290  -0.00001  -0.00002   0.00000  -0.00001      1      1\n",
      "2291  -0.00001  -0.00002   0.00000  -0.00001      1      1\n",
      "(994312, 6)\n"
     ]
    }
   ],
   "source": [
    "dataset = pd.read_csv(r'C:\\Users\\Indatech\\Downloads\\EMG\\Dataset\\EMG-data.csv', delimiter=',')\n",
    "\n",
    "dataset=dataset.drop(columns=[\"time\"])  #No necesitamos la columna del tiempo\n",
    "dataset=dataset.drop(columns=[\"channel5\"])  #Borra canal 5\n",
    "dataset=dataset.drop(columns=[\"channel6\"])  #Borra canal 6\n",
    "dataset=dataset.drop(columns=[\"channel7\"])  #Borra canal 7\n",
    "dataset=dataset.drop(columns=[\"channel8\"])  #Borra canal 8\n",
    "dataset = dataset.drop(dataset[dataset[\"class\"] == 0].index)\n",
    "dataset = dataset.drop(dataset[dataset[\"class\"] == 5].index)  #Borra Radial deviations\n",
    "dataset = dataset.drop(dataset[dataset[\"class\"] == 6].index)  #Borra Ulnar deviations\n",
    "dataset = dataset.drop(dataset[dataset[\"class\"] == 7].index)  #Borra Extended palm\n",
    "dataset.to_csv(\"filtered_data.csv\", index=False)\n",
    "\n",
    "print(dataset.head())\n",
    "\n",
    "print(dataset.shape)"
   ]
  },
  {
   "cell_type": "code",
   "execution_count": 3,
   "metadata": {},
   "outputs": [
    {
     "name": "stdout",
     "output_type": "stream",
     "text": [
      "[1 2 3 4]\n",
      "Value Count :\n",
      " class\n",
      "4    251570\n",
      "1    250055\n",
      "3    249494\n",
      "2    243193\n",
      "Name: count, dtype: int64\n",
      "Shapes:  (994312, 4) (994312,)\n"
     ]
    }
   ],
   "source": [
    "features = dataset.drop(columns=[\"label\",\"class\"])  #CLASS son los gestos que se leen, LABELS son los sujetos haciendo los movimientos (hay 30+)\n",
    "labels = dataset[\"class\"]\n",
    "features.head()  #ATTRIBUTES serian todas las señales detectadas\n",
    "\n",
    "print(labels.unique())\n",
    "print(\"Value Count :\\n\", labels.value_counts())\n",
    "print(\"Shapes: \", features.shape, labels.shape)\n",
    "print(type(labels))\n",
    "print(type(features))"
   ]
  },
  {
   "cell_type": "code",
   "execution_count": 4,
   "metadata": {},
   "outputs": [
    {
     "data": {
      "text/html": [
       "<div>\n",
       "<style scoped>\n",
       "    .dataframe tbody tr th:only-of-type {\n",
       "        vertical-align: middle;\n",
       "    }\n",
       "\n",
       "    .dataframe tbody tr th {\n",
       "        vertical-align: top;\n",
       "    }\n",
       "\n",
       "    .dataframe thead th {\n",
       "        text-align: right;\n",
       "    }\n",
       "</style>\n",
       "<table border=\"1\" class=\"dataframe\">\n",
       "  <thead>\n",
       "    <tr style=\"text-align: right;\">\n",
       "      <th></th>\n",
       "      <th>channel1</th>\n",
       "      <th>channel2</th>\n",
       "      <th>channel3</th>\n",
       "      <th>channel4</th>\n",
       "    </tr>\n",
       "  </thead>\n",
       "  <tbody>\n",
       "    <tr>\n",
       "      <th>2287</th>\n",
       "      <td>-0.00001</td>\n",
       "      <td>0.00000</td>\n",
       "      <td>-0.00001</td>\n",
       "      <td>0.00000</td>\n",
       "    </tr>\n",
       "    <tr>\n",
       "      <th>2288</th>\n",
       "      <td>-0.00001</td>\n",
       "      <td>-0.00002</td>\n",
       "      <td>0.00000</td>\n",
       "      <td>-0.00001</td>\n",
       "    </tr>\n",
       "    <tr>\n",
       "      <th>2289</th>\n",
       "      <td>-0.00001</td>\n",
       "      <td>-0.00002</td>\n",
       "      <td>0.00000</td>\n",
       "      <td>-0.00001</td>\n",
       "    </tr>\n",
       "    <tr>\n",
       "      <th>2290</th>\n",
       "      <td>-0.00001</td>\n",
       "      <td>-0.00002</td>\n",
       "      <td>0.00000</td>\n",
       "      <td>-0.00001</td>\n",
       "    </tr>\n",
       "    <tr>\n",
       "      <th>2291</th>\n",
       "      <td>-0.00001</td>\n",
       "      <td>-0.00002</td>\n",
       "      <td>0.00000</td>\n",
       "      <td>-0.00001</td>\n",
       "    </tr>\n",
       "  </tbody>\n",
       "</table>\n",
       "</div>"
      ],
      "text/plain": [
       "      channel1  channel2  channel3  channel4\n",
       "2287  -0.00001   0.00000  -0.00001   0.00000\n",
       "2288  -0.00001  -0.00002   0.00000  -0.00001\n",
       "2289  -0.00001  -0.00002   0.00000  -0.00001\n",
       "2290  -0.00001  -0.00002   0.00000  -0.00001\n",
       "2291  -0.00001  -0.00002   0.00000  -0.00001"
      ]
     },
     "metadata": {},
     "output_type": "display_data"
    }
   ],
   "source": [
    "display(features.head())\n",
    "\n",
    "#Pasa de series/dataframe a np.array\n",
    "Class = labels.values\n",
    "features = features.values"
   ]
  },
  {
   "cell_type": "code",
   "execution_count": 6,
   "metadata": {},
   "outputs": [
    {
     "name": "stdout",
     "output_type": "stream",
     "text": [
      "[[-6.0e-05 -9.0e-05 -5.0e-05 -9.0e-05]\n",
      " [ 7.1e-04  3.2e-04  9.0e-05  3.2e-04]\n",
      " [-1.0e-05  1.0e-05  0.0e+00  1.0e-05]\n",
      " [ 0.0e+00  1.0e-05 -3.0e-05  1.3e-04]\n",
      " [-8.0e-05  1.0e-04 -3.0e-05  9.0e-05]]\n",
      "Shapes:  (795449, 4) (198863, 4) (795449,) (198863,)\n"
     ]
    }
   ],
   "source": [
    "from sklearn.model_selection import train_test_split\n",
    "\n",
    "# divide en variables de entrada (X) y salida (Y), entrena y prueba\n",
    "x_train, x_test, y_train, y_test = train_test_split(features, Class, test_size=0.2, random_state=42)\n",
    "print(x_train[:5])\n",
    "print(\"Shapes: \", x_train.shape, x_test.shape, y_train.shape, y_test.shape)"
   ]
  },
  {
   "cell_type": "code",
   "execution_count": 7,
   "metadata": {},
   "outputs": [
    {
     "name": "stdout",
     "output_type": "stream",
     "text": [
      "(4,)\n",
      "[4 2 1 4 2 2 1 4 2 3 2 2 4 1 4]\n"
     ]
    }
   ],
   "source": [
    "print(x_train.shape[1:])\n",
    "print(y_train[:15])"
   ]
  },
  {
   "cell_type": "code",
   "execution_count": 8,
   "metadata": {},
   "outputs": [],
   "source": [
    "y_train_pre = y_train - 1   #TODAS LAS CLASES DISMINUYEN UN NUMERO\n",
    "y_test_pre = y_test - 1"
   ]
  },
  {
   "cell_type": "code",
   "execution_count": 9,
   "metadata": {},
   "outputs": [
    {
     "name": "stdout",
     "output_type": "stream",
     "text": [
      "[4 2 1 4 2 2 1 4 2 3 2 2 4 1 4]\n"
     ]
    }
   ],
   "source": [
    "print(y_train[:15])"
   ]
  },
  {
   "cell_type": "code",
   "execution_count": 10,
   "metadata": {},
   "outputs": [],
   "source": [
    "# NORMALIZANDO\n",
    "mean = x_train.mean(axis=0)\n",
    "std = x_train.std(axis=0)\n",
    "\n",
    "x_train -= mean\n",
    "x_train /= std\n",
    "\n",
    "x_test -= mean\n",
    "x_test /= std"
   ]
  },
  {
   "cell_type": "code",
   "execution_count": 11,
   "metadata": {},
   "outputs": [],
   "source": [
    "# codificacion one hot\n",
    "y_train = tf.keras.utils.to_categorical(y_train_pre)\n",
    "y_test = tf.keras.utils.to_categorical(y_test_pre)"
   ]
  },
  {
   "cell_type": "code",
   "execution_count": 12,
   "metadata": {},
   "outputs": [
    {
     "name": "stdout",
     "output_type": "stream",
     "text": [
      "(4,)\n",
      "[[0. 0. 0. 1.]\n",
      " [0. 1. 0. 0.]\n",
      " [1. 0. 0. 0.]\n",
      " ...\n",
      " [0. 1. 0. 0.]\n",
      " [1. 0. 0. 0.]\n",
      " [1. 0. 0. 0.]]\n",
      "4\n"
     ]
    }
   ],
   "source": [
    "print(x_train.shape[1:])\n",
    "print(y_train)\n",
    "print(len(np.unique(Class)))"
   ]
  },
  {
   "cell_type": "code",
   "execution_count": 13,
   "metadata": {},
   "outputs": [
    {
     "name": "stdout",
     "output_type": "stream",
     "text": [
      "WARNING:tensorflow:From c:\\Users\\Indatech\\anaconda3\\envs\\tesis\\lib\\site-packages\\keras\\src\\backend.py:873: The name tf.get_default_graph is deprecated. Please use tf.compat.v1.get_default_graph instead.\n",
      "\n"
     ]
    },
    {
     "name": "stderr",
     "output_type": "stream",
     "text": [
      "WARNING:absl:`lr` is deprecated in Keras optimizer, please use `learning_rate` or use the legacy optimizer, e.g.,tf.keras.optimizers.legacy.Nadam.\n"
     ]
    },
    {
     "name": "stdout",
     "output_type": "stream",
     "text": [
      "Model: \"sequential\"\n",
      "_________________________________________________________________\n",
      " Layer (type)                Output Shape              Param #   \n",
      "=================================================================\n",
      " dense (Dense)               (None, 1024)              5120      \n",
      "                                                                 \n",
      " dense_1 (Dense)             (None, 512)               524800    \n",
      "                                                                 \n",
      " dropout (Dropout)           (None, 512)               0         \n",
      "                                                                 \n",
      " dense_2 (Dense)             (None, 128)               65664     \n",
      "                                                                 \n",
      " dropout_1 (Dropout)         (None, 128)               0         \n",
      "                                                                 \n",
      " dense_3 (Dense)             (None, 64)                8256      \n",
      "                                                                 \n",
      " dense_4 (Dense)             (None, 32)                2080      \n",
      "                                                                 \n",
      " dense_5 (Dense)             (None, 4)                 132       \n",
      "                                                                 \n",
      "=================================================================\n",
      "Total params: 606052 (2.31 MB)\n",
      "Trainable params: 606052 (2.31 MB)\n",
      "Non-trainable params: 0 (0.00 Byte)\n",
      "_________________________________________________________________\n"
     ]
    }
   ],
   "source": [
    "#ESTRUCTURA DEL MODELO\n",
    "num_labels = len(np.unique(Class))\n",
    "\n",
    "model = Sequential()\n",
    "model.add(layers.Dense(1024, activation='relu', input_shape=x_train.shape[1:]))\n",
    "model.add(layers.Dense(512, activation='relu'))\n",
    "# Capa 5: Capa de Dropout para reducir el sobreajuste (20% de las neuronas se apagan aleatoriamente)\n",
    "model.add(layers.Dropout(0.2))\n",
    "model.add(layers.Dense(128, activation='relu'))\n",
    "model.add(layers.Dropout(0.2))\n",
    "model.add(layers.Dense(64, activation='relu'))\n",
    "model.add(layers.Dense(32, activation='relu'))\n",
    "# Capa de salida: Capa densa con un número de neuronas igual al número de clases\n",
    "model.add(layers.Dense(num_labels, activation='softmax'))\n",
    "\n",
    "\n",
    "opt = optimizers.Nadam(lr=1e-4)\n",
    "model.compile(optimizer = opt,   #'Adam', #modificado para testear\n",
    "              loss = \"categorical_crossentropy\",\n",
    "              metrics = [\"accuracy\"])\n",
    "\n",
    "# Muestra un resumen de la arquitectura del modelo\n",
    "model.summary()"
   ]
  },
  {
   "cell_type": "code",
   "execution_count": 14,
   "metadata": {},
   "outputs": [],
   "source": [
    "# guarda el modelo y crea un registro para tensorboard y ciertos callbacks utiles\n",
    "\n",
    "def callbacks(Log,Dir):\n",
    "\n",
    "  Filepath = Log\n",
    "  logdir = os.path.join(Filepath, Dir)\n",
    "  \n",
    "  callbacks_list = [tf.keras.callbacks.TensorBoard(\n",
    "                    log_dir=logdir,                      \n",
    "                    histogram_freq=1,),\n",
    "                    tf.keras.callbacks.EarlyStopping(   # detiene si deja de mejorar la presicion\n",
    "                    monitor='val_accuracy',patience=4,),     # si se detiene, disminuye el learning rate\n",
    "                    tf.keras.callbacks.ModelCheckpoint(\n",
    "                    filepath= Filepath,             # guarda el modelo\n",
    "                    monitor='val_loss',             # guarda los mejores pesos\n",
    "                    save_best_only=True,)]\n",
    "  return callbacks_list"
   ]
  },
  {
   "cell_type": "code",
   "execution_count": 15,
   "metadata": {},
   "outputs": [
    {
     "name": "stdout",
     "output_type": "stream",
     "text": [
      "Epoch 1/100\n",
      "WARNING:tensorflow:From c:\\Users\\Indatech\\anaconda3\\envs\\tesis\\lib\\site-packages\\keras\\src\\utils\\tf_utils.py:492: The name tf.ragged.RaggedTensorValue is deprecated. Please use tf.compat.v1.ragged.RaggedTensorValue instead.\n",
      "\n"
     ]
    },
    {
     "name": "stderr",
     "output_type": "stream",
     "text": [
      "WARNING:tensorflow:From c:\\Users\\Indatech\\anaconda3\\envs\\tesis\\lib\\site-packages\\keras\\src\\utils\\tf_utils.py:492: The name tf.ragged.RaggedTensorValue is deprecated. Please use tf.compat.v1.ragged.RaggedTensorValue instead.\n",
      "\n"
     ]
    },
    {
     "name": "stdout",
     "output_type": "stream",
     "text": [
      "WARNING:tensorflow:From c:\\Users\\Indatech\\anaconda3\\envs\\tesis\\lib\\site-packages\\keras\\src\\engine\\base_layer_utils.py:384: The name tf.executing_eagerly_outside_functions is deprecated. Please use tf.compat.v1.executing_eagerly_outside_functions instead.\n",
      "\n"
     ]
    },
    {
     "name": "stderr",
     "output_type": "stream",
     "text": [
      "WARNING:tensorflow:From c:\\Users\\Indatech\\anaconda3\\envs\\tesis\\lib\\site-packages\\keras\\src\\engine\\base_layer_utils.py:384: The name tf.executing_eagerly_outside_functions is deprecated. Please use tf.compat.v1.executing_eagerly_outside_functions instead.\n",
      "\n"
     ]
    },
    {
     "name": "stdout",
     "output_type": "stream",
     "text": [
      "1242/1243 [============================>.] - ETA: 0s - loss: 0.7450 - accuracy: 0.7007INFO:tensorflow:Assets written to: model_tesis\\assets\n"
     ]
    },
    {
     "name": "stderr",
     "output_type": "stream",
     "text": [
      "INFO:tensorflow:Assets written to: model_tesis\\assets\n"
     ]
    },
    {
     "name": "stdout",
     "output_type": "stream",
     "text": [
      "1243/1243 [==============================] - 55s 41ms/step - loss: 0.7451 - accuracy: 0.7007 - val_loss: 0.7134 - val_accuracy: 0.7103\n",
      "Epoch 2/100\n",
      "1242/1243 [============================>.] - ETA: 0s - loss: 0.7186 - accuracy: 0.7112INFO:tensorflow:Assets written to: model_tesis\\assets\n"
     ]
    },
    {
     "name": "stderr",
     "output_type": "stream",
     "text": [
      "INFO:tensorflow:Assets written to: model_tesis\\assets\n"
     ]
    },
    {
     "name": "stdout",
     "output_type": "stream",
     "text": [
      "1243/1243 [==============================] - 50s 40ms/step - loss: 0.7187 - accuracy: 0.7112 - val_loss: 0.7058 - val_accuracy: 0.7129\n",
      "Epoch 3/100\n",
      "1242/1243 [============================>.] - ETA: 0s - loss: 0.7128 - accuracy: 0.7133INFO:tensorflow:Assets written to: model_tesis\\assets\n"
     ]
    },
    {
     "name": "stderr",
     "output_type": "stream",
     "text": [
      "INFO:tensorflow:Assets written to: model_tesis\\assets\n"
     ]
    },
    {
     "name": "stdout",
     "output_type": "stream",
     "text": [
      "1243/1243 [==============================] - 52s 42ms/step - loss: 0.7128 - accuracy: 0.7133 - val_loss: 0.7036 - val_accuracy: 0.7154\n",
      "Epoch 4/100\n",
      "1242/1243 [============================>.] - ETA: 0s - loss: 0.7082 - accuracy: 0.7148INFO:tensorflow:Assets written to: model_tesis\\assets\n"
     ]
    },
    {
     "name": "stderr",
     "output_type": "stream",
     "text": [
      "INFO:tensorflow:Assets written to: model_tesis\\assets\n"
     ]
    },
    {
     "name": "stdout",
     "output_type": "stream",
     "text": [
      "1243/1243 [==============================] - 50s 41ms/step - loss: 0.7082 - accuracy: 0.7148 - val_loss: 0.6975 - val_accuracy: 0.7184\n",
      "Epoch 5/100\n",
      "1242/1243 [============================>.] - ETA: 0s - loss: 0.7039 - accuracy: 0.7166INFO:tensorflow:Assets written to: model_tesis\\assets\n"
     ]
    },
    {
     "name": "stderr",
     "output_type": "stream",
     "text": [
      "INFO:tensorflow:Assets written to: model_tesis\\assets\n"
     ]
    },
    {
     "name": "stdout",
     "output_type": "stream",
     "text": [
      "1243/1243 [==============================] - 50s 40ms/step - loss: 0.7039 - accuracy: 0.7166 - val_loss: 0.6938 - val_accuracy: 0.7197\n",
      "Epoch 6/100\n",
      "1242/1243 [============================>.] - ETA: 0s - loss: 0.6997 - accuracy: 0.7186INFO:tensorflow:Assets written to: model_tesis\\assets\n"
     ]
    },
    {
     "name": "stderr",
     "output_type": "stream",
     "text": [
      "INFO:tensorflow:Assets written to: model_tesis\\assets\n"
     ]
    },
    {
     "name": "stdout",
     "output_type": "stream",
     "text": [
      "1243/1243 [==============================] - 50s 40ms/step - loss: 0.6997 - accuracy: 0.7185 - val_loss: 0.6913 - val_accuracy: 0.7204\n",
      "Epoch 7/100\n",
      "1242/1243 [============================>.] - ETA: 0s - loss: 0.6957 - accuracy: 0.7205INFO:tensorflow:Assets written to: model_tesis\\assets\n"
     ]
    },
    {
     "name": "stderr",
     "output_type": "stream",
     "text": [
      "INFO:tensorflow:Assets written to: model_tesis\\assets\n"
     ]
    },
    {
     "name": "stdout",
     "output_type": "stream",
     "text": [
      "1243/1243 [==============================] - 51s 41ms/step - loss: 0.6957 - accuracy: 0.7205 - val_loss: 0.6878 - val_accuracy: 0.7227\n",
      "Epoch 8/100\n",
      "1242/1243 [============================>.] - ETA: 0s - loss: 0.6918 - accuracy: 0.7221INFO:tensorflow:Assets written to: model_tesis\\assets\n"
     ]
    },
    {
     "name": "stderr",
     "output_type": "stream",
     "text": [
      "INFO:tensorflow:Assets written to: model_tesis\\assets\n"
     ]
    },
    {
     "name": "stdout",
     "output_type": "stream",
     "text": [
      "1243/1243 [==============================] - 50s 41ms/step - loss: 0.6919 - accuracy: 0.7221 - val_loss: 0.6832 - val_accuracy: 0.7241\n",
      "Epoch 9/100\n",
      "1242/1243 [============================>.] - ETA: 0s - loss: 0.6879 - accuracy: 0.7241INFO:tensorflow:Assets written to: model_tesis\\assets\n"
     ]
    },
    {
     "name": "stderr",
     "output_type": "stream",
     "text": [
      "INFO:tensorflow:Assets written to: model_tesis\\assets\n"
     ]
    },
    {
     "name": "stdout",
     "output_type": "stream",
     "text": [
      "1243/1243 [==============================] - 50s 41ms/step - loss: 0.6879 - accuracy: 0.7241 - val_loss: 0.6799 - val_accuracy: 0.7257\n",
      "Epoch 10/100\n",
      "1242/1243 [============================>.] - ETA: 0s - loss: 0.6837 - accuracy: 0.7258INFO:tensorflow:Assets written to: model_tesis\\assets\n"
     ]
    },
    {
     "name": "stderr",
     "output_type": "stream",
     "text": [
      "INFO:tensorflow:Assets written to: model_tesis\\assets\n"
     ]
    },
    {
     "name": "stdout",
     "output_type": "stream",
     "text": [
      "1243/1243 [==============================] - 50s 40ms/step - loss: 0.6837 - accuracy: 0.7258 - val_loss: 0.6733 - val_accuracy: 0.7291\n",
      "Epoch 11/100\n",
      "1243/1243 [==============================] - ETA: 0s - loss: 0.6803 - accuracy: 0.7273INFO:tensorflow:Assets written to: model_tesis\\assets\n"
     ]
    },
    {
     "name": "stderr",
     "output_type": "stream",
     "text": [
      "INFO:tensorflow:Assets written to: model_tesis\\assets\n"
     ]
    },
    {
     "name": "stdout",
     "output_type": "stream",
     "text": [
      "1243/1243 [==============================] - 50s 40ms/step - loss: 0.6803 - accuracy: 0.7273 - val_loss: 0.6693 - val_accuracy: 0.7301\n",
      "Epoch 12/100\n",
      "1242/1243 [============================>.] - ETA: 0s - loss: 0.6765 - accuracy: 0.7290INFO:tensorflow:Assets written to: model_tesis\\assets\n"
     ]
    },
    {
     "name": "stderr",
     "output_type": "stream",
     "text": [
      "INFO:tensorflow:Assets written to: model_tesis\\assets\n"
     ]
    },
    {
     "name": "stdout",
     "output_type": "stream",
     "text": [
      "1243/1243 [==============================] - 50s 40ms/step - loss: 0.6766 - accuracy: 0.7290 - val_loss: 0.6650 - val_accuracy: 0.7329\n",
      "Epoch 13/100\n",
      "1242/1243 [============================>.] - ETA: 0s - loss: 0.6727 - accuracy: 0.7307INFO:tensorflow:Assets written to: model_tesis\\assets\n"
     ]
    },
    {
     "name": "stderr",
     "output_type": "stream",
     "text": [
      "INFO:tensorflow:Assets written to: model_tesis\\assets\n"
     ]
    },
    {
     "name": "stdout",
     "output_type": "stream",
     "text": [
      "1243/1243 [==============================] - 50s 40ms/step - loss: 0.6728 - accuracy: 0.7307 - val_loss: 0.6594 - val_accuracy: 0.7361\n",
      "Epoch 14/100\n",
      "1242/1243 [============================>.] - ETA: 0s - loss: 0.6690 - accuracy: 0.7325INFO:tensorflow:Assets written to: model_tesis\\assets\n"
     ]
    },
    {
     "name": "stderr",
     "output_type": "stream",
     "text": [
      "INFO:tensorflow:Assets written to: model_tesis\\assets\n"
     ]
    },
    {
     "name": "stdout",
     "output_type": "stream",
     "text": [
      "1243/1243 [==============================] - 49s 40ms/step - loss: 0.6690 - accuracy: 0.7325 - val_loss: 0.6570 - val_accuracy: 0.7386\n",
      "Epoch 15/100\n",
      "1242/1243 [============================>.] - ETA: 0s - loss: 0.6653 - accuracy: 0.7339INFO:tensorflow:Assets written to: model_tesis\\assets\n"
     ]
    },
    {
     "name": "stderr",
     "output_type": "stream",
     "text": [
      "INFO:tensorflow:Assets written to: model_tesis\\assets\n"
     ]
    },
    {
     "name": "stdout",
     "output_type": "stream",
     "text": [
      "1243/1243 [==============================] - 51s 41ms/step - loss: 0.6653 - accuracy: 0.7339 - val_loss: 0.6525 - val_accuracy: 0.7379\n",
      "Epoch 16/100\n",
      "1243/1243 [==============================] - ETA: 0s - loss: 0.6620 - accuracy: 0.7353INFO:tensorflow:Assets written to: model_tesis\\assets\n"
     ]
    },
    {
     "name": "stderr",
     "output_type": "stream",
     "text": [
      "INFO:tensorflow:Assets written to: model_tesis\\assets\n"
     ]
    },
    {
     "name": "stdout",
     "output_type": "stream",
     "text": [
      "1243/1243 [==============================] - 50s 40ms/step - loss: 0.6620 - accuracy: 0.7353 - val_loss: 0.6486 - val_accuracy: 0.7403\n",
      "Epoch 17/100\n",
      "1242/1243 [============================>.] - ETA: 0s - loss: 0.6587 - accuracy: 0.7369INFO:tensorflow:Assets written to: model_tesis\\assets\n"
     ]
    },
    {
     "name": "stderr",
     "output_type": "stream",
     "text": [
      "INFO:tensorflow:Assets written to: model_tesis\\assets\n"
     ]
    },
    {
     "name": "stdout",
     "output_type": "stream",
     "text": [
      "1243/1243 [==============================] - 50s 40ms/step - loss: 0.6587 - accuracy: 0.7369 - val_loss: 0.6416 - val_accuracy: 0.7446\n",
      "Epoch 18/100\n",
      "1242/1243 [============================>.] - ETA: 0s - loss: 0.6556 - accuracy: 0.7387INFO:tensorflow:Assets written to: model_tesis\\assets\n"
     ]
    },
    {
     "name": "stderr",
     "output_type": "stream",
     "text": [
      "INFO:tensorflow:Assets written to: model_tesis\\assets\n"
     ]
    },
    {
     "name": "stdout",
     "output_type": "stream",
     "text": [
      "1243/1243 [==============================] - 50s 40ms/step - loss: 0.6556 - accuracy: 0.7387 - val_loss: 0.6374 - val_accuracy: 0.7449\n",
      "Epoch 19/100\n",
      "1243/1243 [==============================] - ETA: 0s - loss: 0.6517 - accuracy: 0.7399INFO:tensorflow:Assets written to: model_tesis\\assets\n"
     ]
    },
    {
     "name": "stderr",
     "output_type": "stream",
     "text": [
      "INFO:tensorflow:Assets written to: model_tesis\\assets\n"
     ]
    },
    {
     "name": "stdout",
     "output_type": "stream",
     "text": [
      "1243/1243 [==============================] - 50s 40ms/step - loss: 0.6517 - accuracy: 0.7399 - val_loss: 0.6362 - val_accuracy: 0.7462\n",
      "Epoch 20/100\n",
      "1242/1243 [============================>.] - ETA: 0s - loss: 0.6491 - accuracy: 0.7412INFO:tensorflow:Assets written to: model_tesis\\assets\n"
     ]
    },
    {
     "name": "stderr",
     "output_type": "stream",
     "text": [
      "INFO:tensorflow:Assets written to: model_tesis\\assets\n"
     ]
    },
    {
     "name": "stdout",
     "output_type": "stream",
     "text": [
      "1243/1243 [==============================] - 50s 41ms/step - loss: 0.6491 - accuracy: 0.7412 - val_loss: 0.6282 - val_accuracy: 0.7495\n",
      "Epoch 21/100\n",
      "1243/1243 [==============================] - 49s 39ms/step - loss: 0.6465 - accuracy: 0.7428 - val_loss: 0.6287 - val_accuracy: 0.7502\n",
      "Epoch 22/100\n",
      "1243/1243 [==============================] - ETA: 0s - loss: 0.6435 - accuracy: 0.7434INFO:tensorflow:Assets written to: model_tesis\\assets\n"
     ]
    },
    {
     "name": "stderr",
     "output_type": "stream",
     "text": [
      "INFO:tensorflow:Assets written to: model_tesis\\assets\n"
     ]
    },
    {
     "name": "stdout",
     "output_type": "stream",
     "text": [
      "1243/1243 [==============================] - 50s 40ms/step - loss: 0.6435 - accuracy: 0.7434 - val_loss: 0.6221 - val_accuracy: 0.7528\n",
      "Epoch 23/100\n",
      "1242/1243 [============================>.] - ETA: 0s - loss: 0.6408 - accuracy: 0.7450INFO:tensorflow:Assets written to: model_tesis\\assets\n"
     ]
    },
    {
     "name": "stderr",
     "output_type": "stream",
     "text": [
      "INFO:tensorflow:Assets written to: model_tesis\\assets\n"
     ]
    },
    {
     "name": "stdout",
     "output_type": "stream",
     "text": [
      "1243/1243 [==============================] - 50s 40ms/step - loss: 0.6407 - accuracy: 0.7451 - val_loss: 0.6177 - val_accuracy: 0.7540\n",
      "Epoch 24/100\n",
      "1243/1243 [==============================] - 49s 39ms/step - loss: 0.6378 - accuracy: 0.7466 - val_loss: 0.6179 - val_accuracy: 0.7556\n",
      "Epoch 25/100\n",
      "1242/1243 [============================>.] - ETA: 0s - loss: 0.6350 - accuracy: 0.7475INFO:tensorflow:Assets written to: model_tesis\\assets\n"
     ]
    },
    {
     "name": "stderr",
     "output_type": "stream",
     "text": [
      "INFO:tensorflow:Assets written to: model_tesis\\assets\n"
     ]
    },
    {
     "name": "stdout",
     "output_type": "stream",
     "text": [
      "1243/1243 [==============================] - 50s 40ms/step - loss: 0.6350 - accuracy: 0.7475 - val_loss: 0.6117 - val_accuracy: 0.7584\n",
      "Epoch 26/100\n",
      "1243/1243 [==============================] - ETA: 0s - loss: 0.6326 - accuracy: 0.7480INFO:tensorflow:Assets written to: model_tesis\\assets\n"
     ]
    },
    {
     "name": "stderr",
     "output_type": "stream",
     "text": [
      "INFO:tensorflow:Assets written to: model_tesis\\assets\n"
     ]
    },
    {
     "name": "stdout",
     "output_type": "stream",
     "text": [
      "1243/1243 [==============================] - 50s 40ms/step - loss: 0.6326 - accuracy: 0.7480 - val_loss: 0.6066 - val_accuracy: 0.7605\n",
      "Epoch 27/100\n",
      "1243/1243 [==============================] - ETA: 0s - loss: 0.6307 - accuracy: 0.7498INFO:tensorflow:Assets written to: model_tesis\\assets\n"
     ]
    },
    {
     "name": "stderr",
     "output_type": "stream",
     "text": [
      "INFO:tensorflow:Assets written to: model_tesis\\assets\n"
     ]
    },
    {
     "name": "stdout",
     "output_type": "stream",
     "text": [
      "1243/1243 [==============================] - 50s 40ms/step - loss: 0.6307 - accuracy: 0.7498 - val_loss: 0.6044 - val_accuracy: 0.7624\n",
      "Epoch 28/100\n",
      "1242/1243 [============================>.] - ETA: 0s - loss: 0.6280 - accuracy: 0.7508INFO:tensorflow:Assets written to: model_tesis\\assets\n"
     ]
    },
    {
     "name": "stderr",
     "output_type": "stream",
     "text": [
      "INFO:tensorflow:Assets written to: model_tesis\\assets\n"
     ]
    },
    {
     "name": "stdout",
     "output_type": "stream",
     "text": [
      "1243/1243 [==============================] - 50s 41ms/step - loss: 0.6280 - accuracy: 0.7507 - val_loss: 0.6005 - val_accuracy: 0.7632\n",
      "Epoch 29/100\n",
      "1243/1243 [==============================] - ETA: 0s - loss: 0.6257 - accuracy: 0.7518INFO:tensorflow:Assets written to: model_tesis\\assets\n"
     ]
    },
    {
     "name": "stderr",
     "output_type": "stream",
     "text": [
      "INFO:tensorflow:Assets written to: model_tesis\\assets\n"
     ]
    },
    {
     "name": "stdout",
     "output_type": "stream",
     "text": [
      "1243/1243 [==============================] - 51s 41ms/step - loss: 0.6257 - accuracy: 0.7518 - val_loss: 0.5986 - val_accuracy: 0.7645\n",
      "Epoch 30/100\n",
      "1242/1243 [============================>.] - ETA: 0s - loss: 0.6239 - accuracy: 0.7522INFO:tensorflow:Assets written to: model_tesis\\assets\n"
     ]
    },
    {
     "name": "stderr",
     "output_type": "stream",
     "text": [
      "INFO:tensorflow:Assets written to: model_tesis\\assets\n"
     ]
    },
    {
     "name": "stdout",
     "output_type": "stream",
     "text": [
      "1243/1243 [==============================] - 50s 40ms/step - loss: 0.6238 - accuracy: 0.7523 - val_loss: 0.5961 - val_accuracy: 0.7645\n",
      "Epoch 31/100\n",
      "1243/1243 [==============================] - ETA: 0s - loss: 0.6210 - accuracy: 0.7533INFO:tensorflow:Assets written to: model_tesis\\assets\n"
     ]
    },
    {
     "name": "stderr",
     "output_type": "stream",
     "text": [
      "INFO:tensorflow:Assets written to: model_tesis\\assets\n"
     ]
    },
    {
     "name": "stdout",
     "output_type": "stream",
     "text": [
      "1243/1243 [==============================] - 50s 40ms/step - loss: 0.6210 - accuracy: 0.7533 - val_loss: 0.5911 - val_accuracy: 0.7678\n",
      "Epoch 32/100\n",
      "1243/1243 [==============================] - 49s 39ms/step - loss: 0.6199 - accuracy: 0.7540 - val_loss: 0.5918 - val_accuracy: 0.7659\n",
      "Epoch 33/100\n",
      "1242/1243 [============================>.] - ETA: 0s - loss: 0.6175 - accuracy: 0.7551INFO:tensorflow:Assets written to: model_tesis\\assets\n"
     ]
    },
    {
     "name": "stderr",
     "output_type": "stream",
     "text": [
      "INFO:tensorflow:Assets written to: model_tesis\\assets\n"
     ]
    },
    {
     "name": "stdout",
     "output_type": "stream",
     "text": [
      "1243/1243 [==============================] - 50s 40ms/step - loss: 0.6175 - accuracy: 0.7551 - val_loss: 0.5862 - val_accuracy: 0.7701\n",
      "Epoch 34/100\n",
      "1243/1243 [==============================] - ETA: 0s - loss: 0.6151 - accuracy: 0.7565INFO:tensorflow:Assets written to: model_tesis\\assets\n"
     ]
    },
    {
     "name": "stderr",
     "output_type": "stream",
     "text": [
      "INFO:tensorflow:Assets written to: model_tesis\\assets\n"
     ]
    },
    {
     "name": "stdout",
     "output_type": "stream",
     "text": [
      "1243/1243 [==============================] - 50s 40ms/step - loss: 0.6151 - accuracy: 0.7565 - val_loss: 0.5828 - val_accuracy: 0.7706\n",
      "Epoch 35/100\n",
      "1243/1243 [==============================] - ETA: 0s - loss: 0.6129 - accuracy: 0.7569INFO:tensorflow:Assets written to: model_tesis\\assets\n"
     ]
    },
    {
     "name": "stderr",
     "output_type": "stream",
     "text": [
      "INFO:tensorflow:Assets written to: model_tesis\\assets\n"
     ]
    },
    {
     "name": "stdout",
     "output_type": "stream",
     "text": [
      "1243/1243 [==============================] - 50s 40ms/step - loss: 0.6129 - accuracy: 0.7569 - val_loss: 0.5816 - val_accuracy: 0.7709\n",
      "Epoch 36/100\n",
      "1242/1243 [============================>.] - ETA: 0s - loss: 0.6119 - accuracy: 0.7576INFO:tensorflow:Assets written to: model_tesis\\assets\n"
     ]
    },
    {
     "name": "stderr",
     "output_type": "stream",
     "text": [
      "INFO:tensorflow:Assets written to: model_tesis\\assets\n"
     ]
    },
    {
     "name": "stdout",
     "output_type": "stream",
     "text": [
      "1243/1243 [==============================] - 50s 40ms/step - loss: 0.6119 - accuracy: 0.7576 - val_loss: 0.5773 - val_accuracy: 0.7736\n",
      "Epoch 37/100\n",
      "1243/1243 [==============================] - ETA: 0s - loss: 0.6099 - accuracy: 0.7583INFO:tensorflow:Assets written to: model_tesis\\assets\n"
     ]
    },
    {
     "name": "stderr",
     "output_type": "stream",
     "text": [
      "INFO:tensorflow:Assets written to: model_tesis\\assets\n"
     ]
    },
    {
     "name": "stdout",
     "output_type": "stream",
     "text": [
      "1243/1243 [==============================] - 50s 40ms/step - loss: 0.6099 - accuracy: 0.7583 - val_loss: 0.5766 - val_accuracy: 0.7750\n",
      "Epoch 38/100\n",
      "1243/1243 [==============================] - ETA: 0s - loss: 0.6081 - accuracy: 0.7591INFO:tensorflow:Assets written to: model_tesis\\assets\n"
     ]
    },
    {
     "name": "stderr",
     "output_type": "stream",
     "text": [
      "INFO:tensorflow:Assets written to: model_tesis\\assets\n"
     ]
    },
    {
     "name": "stdout",
     "output_type": "stream",
     "text": [
      "1243/1243 [==============================] - 50s 40ms/step - loss: 0.6081 - accuracy: 0.7591 - val_loss: 0.5718 - val_accuracy: 0.7764\n",
      "Epoch 39/100\n",
      "1243/1243 [==============================] - 48s 39ms/step - loss: 0.6060 - accuracy: 0.7601 - val_loss: 0.5725 - val_accuracy: 0.7750\n",
      "Epoch 40/100\n",
      "1242/1243 [============================>.] - ETA: 0s - loss: 0.6037 - accuracy: 0.7613INFO:tensorflow:Assets written to: model_tesis\\assets\n"
     ]
    },
    {
     "name": "stderr",
     "output_type": "stream",
     "text": [
      "INFO:tensorflow:Assets written to: model_tesis\\assets\n"
     ]
    },
    {
     "name": "stdout",
     "output_type": "stream",
     "text": [
      "1243/1243 [==============================] - 50s 40ms/step - loss: 0.6037 - accuracy: 0.7613 - val_loss: 0.5668 - val_accuracy: 0.7777\n",
      "Epoch 41/100\n",
      "1243/1243 [==============================] - ETA: 0s - loss: 0.6028 - accuracy: 0.7615INFO:tensorflow:Assets written to: model_tesis\\assets\n"
     ]
    },
    {
     "name": "stderr",
     "output_type": "stream",
     "text": [
      "INFO:tensorflow:Assets written to: model_tesis\\assets\n"
     ]
    },
    {
     "name": "stdout",
     "output_type": "stream",
     "text": [
      "1243/1243 [==============================] - 50s 40ms/step - loss: 0.6028 - accuracy: 0.7615 - val_loss: 0.5650 - val_accuracy: 0.7797\n",
      "Epoch 42/100\n",
      "1242/1243 [============================>.] - ETA: 0s - loss: 0.6006 - accuracy: 0.7627INFO:tensorflow:Assets written to: model_tesis\\assets\n"
     ]
    },
    {
     "name": "stderr",
     "output_type": "stream",
     "text": [
      "INFO:tensorflow:Assets written to: model_tesis\\assets\n"
     ]
    },
    {
     "name": "stdout",
     "output_type": "stream",
     "text": [
      "1243/1243 [==============================] - 50s 40ms/step - loss: 0.6006 - accuracy: 0.7627 - val_loss: 0.5635 - val_accuracy: 0.7818\n",
      "Epoch 43/100\n",
      "1243/1243 [==============================] - ETA: 0s - loss: 0.6000 - accuracy: 0.7629INFO:tensorflow:Assets written to: model_tesis\\assets\n"
     ]
    },
    {
     "name": "stderr",
     "output_type": "stream",
     "text": [
      "INFO:tensorflow:Assets written to: model_tesis\\assets\n"
     ]
    },
    {
     "name": "stdout",
     "output_type": "stream",
     "text": [
      "1243/1243 [==============================] - 50s 40ms/step - loss: 0.6000 - accuracy: 0.7629 - val_loss: 0.5598 - val_accuracy: 0.7833\n",
      "Epoch 44/100\n",
      "1242/1243 [============================>.] - ETA: 0s - loss: 0.5977 - accuracy: 0.7641INFO:tensorflow:Assets written to: model_tesis\\assets\n"
     ]
    },
    {
     "name": "stderr",
     "output_type": "stream",
     "text": [
      "INFO:tensorflow:Assets written to: model_tesis\\assets\n"
     ]
    },
    {
     "name": "stdout",
     "output_type": "stream",
     "text": [
      "1243/1243 [==============================] - 50s 40ms/step - loss: 0.5977 - accuracy: 0.7641 - val_loss: 0.5577 - val_accuracy: 0.7827\n",
      "Epoch 45/100\n",
      "1242/1243 [============================>.] - ETA: 0s - loss: 0.5962 - accuracy: 0.7644INFO:tensorflow:Assets written to: model_tesis\\assets\n"
     ]
    },
    {
     "name": "stderr",
     "output_type": "stream",
     "text": [
      "INFO:tensorflow:Assets written to: model_tesis\\assets\n"
     ]
    },
    {
     "name": "stdout",
     "output_type": "stream",
     "text": [
      "1243/1243 [==============================] - 53s 43ms/step - loss: 0.5961 - accuracy: 0.7644 - val_loss: 0.5562 - val_accuracy: 0.7842\n",
      "Epoch 46/100\n",
      "1243/1243 [==============================] - ETA: 0s - loss: 0.5947 - accuracy: 0.7651INFO:tensorflow:Assets written to: model_tesis\\assets\n"
     ]
    },
    {
     "name": "stderr",
     "output_type": "stream",
     "text": [
      "INFO:tensorflow:Assets written to: model_tesis\\assets\n"
     ]
    },
    {
     "name": "stdout",
     "output_type": "stream",
     "text": [
      "1243/1243 [==============================] - 51s 41ms/step - loss: 0.5947 - accuracy: 0.7651 - val_loss: 0.5547 - val_accuracy: 0.7847\n",
      "Epoch 47/100\n",
      "1242/1243 [============================>.] - ETA: 0s - loss: 0.5933 - accuracy: 0.7660INFO:tensorflow:Assets written to: model_tesis\\assets\n"
     ]
    },
    {
     "name": "stderr",
     "output_type": "stream",
     "text": [
      "INFO:tensorflow:Assets written to: model_tesis\\assets\n"
     ]
    },
    {
     "name": "stdout",
     "output_type": "stream",
     "text": [
      "1243/1243 [==============================] - 50s 40ms/step - loss: 0.5933 - accuracy: 0.7660 - val_loss: 0.5521 - val_accuracy: 0.7847\n",
      "Epoch 48/100\n",
      "1243/1243 [==============================] - ETA: 0s - loss: 0.5916 - accuracy: 0.7673INFO:tensorflow:Assets written to: model_tesis\\assets\n"
     ]
    },
    {
     "name": "stderr",
     "output_type": "stream",
     "text": [
      "INFO:tensorflow:Assets written to: model_tesis\\assets\n"
     ]
    },
    {
     "name": "stdout",
     "output_type": "stream",
     "text": [
      "1243/1243 [==============================] - 50s 40ms/step - loss: 0.5916 - accuracy: 0.7673 - val_loss: 0.5492 - val_accuracy: 0.7869\n",
      "Epoch 49/100\n",
      "1243/1243 [==============================] - 49s 39ms/step - loss: 0.5914 - accuracy: 0.7667 - val_loss: 0.5493 - val_accuracy: 0.7869\n",
      "Epoch 50/100\n",
      "1243/1243 [==============================] - ETA: 0s - loss: 0.5890 - accuracy: 0.7683INFO:tensorflow:Assets written to: model_tesis\\assets\n"
     ]
    },
    {
     "name": "stderr",
     "output_type": "stream",
     "text": [
      "INFO:tensorflow:Assets written to: model_tesis\\assets\n"
     ]
    },
    {
     "name": "stdout",
     "output_type": "stream",
     "text": [
      "1243/1243 [==============================] - 50s 40ms/step - loss: 0.5890 - accuracy: 0.7683 - val_loss: 0.5469 - val_accuracy: 0.7893\n",
      "Epoch 51/100\n",
      "1242/1243 [============================>.] - ETA: 0s - loss: 0.5876 - accuracy: 0.7688INFO:tensorflow:Assets written to: model_tesis\\assets\n"
     ]
    },
    {
     "name": "stderr",
     "output_type": "stream",
     "text": [
      "INFO:tensorflow:Assets written to: model_tesis\\assets\n"
     ]
    },
    {
     "name": "stdout",
     "output_type": "stream",
     "text": [
      "1243/1243 [==============================] - 50s 41ms/step - loss: 0.5876 - accuracy: 0.7688 - val_loss: 0.5452 - val_accuracy: 0.7884\n",
      "Epoch 52/100\n",
      "1243/1243 [==============================] - ETA: 0s - loss: 0.5858 - accuracy: 0.7692INFO:tensorflow:Assets written to: model_tesis\\assets\n"
     ]
    },
    {
     "name": "stderr",
     "output_type": "stream",
     "text": [
      "INFO:tensorflow:Assets written to: model_tesis\\assets\n"
     ]
    },
    {
     "name": "stdout",
     "output_type": "stream",
     "text": [
      "1243/1243 [==============================] - 52s 42ms/step - loss: 0.5858 - accuracy: 0.7692 - val_loss: 0.5410 - val_accuracy: 0.7927\n",
      "Epoch 53/100\n",
      "1243/1243 [==============================] - 49s 39ms/step - loss: 0.5852 - accuracy: 0.7695 - val_loss: 0.5427 - val_accuracy: 0.7897\n",
      "Epoch 54/100\n",
      "1243/1243 [==============================] - ETA: 0s - loss: 0.5838 - accuracy: 0.7701INFO:tensorflow:Assets written to: model_tesis\\assets\n"
     ]
    },
    {
     "name": "stderr",
     "output_type": "stream",
     "text": [
      "INFO:tensorflow:Assets written to: model_tesis\\assets\n"
     ]
    },
    {
     "name": "stdout",
     "output_type": "stream",
     "text": [
      "1243/1243 [==============================] - 50s 40ms/step - loss: 0.5838 - accuracy: 0.7701 - val_loss: 0.5376 - val_accuracy: 0.7936\n",
      "Epoch 55/100\n",
      "1243/1243 [==============================] - 48s 39ms/step - loss: 0.5825 - accuracy: 0.7708 - val_loss: 0.5387 - val_accuracy: 0.7942\n",
      "Epoch 56/100\n",
      "1243/1243 [==============================] - ETA: 0s - loss: 0.5813 - accuracy: 0.7714INFO:tensorflow:Assets written to: model_tesis\\assets\n"
     ]
    },
    {
     "name": "stderr",
     "output_type": "stream",
     "text": [
      "INFO:tensorflow:Assets written to: model_tesis\\assets\n"
     ]
    },
    {
     "name": "stdout",
     "output_type": "stream",
     "text": [
      "1243/1243 [==============================] - 49s 39ms/step - loss: 0.5813 - accuracy: 0.7714 - val_loss: 0.5360 - val_accuracy: 0.7948\n",
      "Epoch 57/100\n",
      "1243/1243 [==============================] - ETA: 0s - loss: 0.5799 - accuracy: 0.7719INFO:tensorflow:Assets written to: model_tesis\\assets\n"
     ]
    },
    {
     "name": "stderr",
     "output_type": "stream",
     "text": [
      "INFO:tensorflow:Assets written to: model_tesis\\assets\n"
     ]
    },
    {
     "name": "stdout",
     "output_type": "stream",
     "text": [
      "1243/1243 [==============================] - 51s 41ms/step - loss: 0.5799 - accuracy: 0.7719 - val_loss: 0.5330 - val_accuracy: 0.7947\n",
      "Epoch 58/100\n",
      "1242/1243 [============================>.] - ETA: 0s - loss: 0.5792 - accuracy: 0.7720INFO:tensorflow:Assets written to: model_tesis\\assets\n"
     ]
    },
    {
     "name": "stderr",
     "output_type": "stream",
     "text": [
      "INFO:tensorflow:Assets written to: model_tesis\\assets\n"
     ]
    },
    {
     "name": "stdout",
     "output_type": "stream",
     "text": [
      "1243/1243 [==============================] - 50s 40ms/step - loss: 0.5792 - accuracy: 0.7720 - val_loss: 0.5328 - val_accuracy: 0.7949\n",
      "Epoch 59/100\n",
      "1243/1243 [==============================] - 49s 39ms/step - loss: 0.5773 - accuracy: 0.7727 - val_loss: 0.5332 - val_accuracy: 0.7948\n",
      "Epoch 60/100\n",
      "1243/1243 [==============================] - ETA: 0s - loss: 0.5766 - accuracy: 0.7737INFO:tensorflow:Assets written to: model_tesis\\assets\n"
     ]
    },
    {
     "name": "stderr",
     "output_type": "stream",
     "text": [
      "INFO:tensorflow:Assets written to: model_tesis\\assets\n"
     ]
    },
    {
     "name": "stdout",
     "output_type": "stream",
     "text": [
      "1243/1243 [==============================] - 50s 40ms/step - loss: 0.5766 - accuracy: 0.7737 - val_loss: 0.5294 - val_accuracy: 0.7949\n",
      "Epoch 61/100\n",
      "1242/1243 [============================>.] - ETA: 0s - loss: 0.5749 - accuracy: 0.7740INFO:tensorflow:Assets written to: model_tesis\\assets\n"
     ]
    },
    {
     "name": "stderr",
     "output_type": "stream",
     "text": [
      "INFO:tensorflow:Assets written to: model_tesis\\assets\n"
     ]
    },
    {
     "name": "stdout",
     "output_type": "stream",
     "text": [
      "1243/1243 [==============================] - 49s 40ms/step - loss: 0.5749 - accuracy: 0.7739 - val_loss: 0.5265 - val_accuracy: 0.7979\n",
      "Epoch 62/100\n",
      "1243/1243 [==============================] - ETA: 0s - loss: 0.5733 - accuracy: 0.7755INFO:tensorflow:Assets written to: model_tesis\\assets\n"
     ]
    },
    {
     "name": "stderr",
     "output_type": "stream",
     "text": [
      "INFO:tensorflow:Assets written to: model_tesis\\assets\n"
     ]
    },
    {
     "name": "stdout",
     "output_type": "stream",
     "text": [
      "1243/1243 [==============================] - 49s 40ms/step - loss: 0.5733 - accuracy: 0.7755 - val_loss: 0.5238 - val_accuracy: 0.7990\n",
      "Epoch 63/100\n",
      "1242/1243 [============================>.] - ETA: 0s - loss: 0.5730 - accuracy: 0.7752INFO:tensorflow:Assets written to: model_tesis\\assets\n"
     ]
    },
    {
     "name": "stderr",
     "output_type": "stream",
     "text": [
      "INFO:tensorflow:Assets written to: model_tesis\\assets\n"
     ]
    },
    {
     "name": "stdout",
     "output_type": "stream",
     "text": [
      "1243/1243 [==============================] - 49s 40ms/step - loss: 0.5730 - accuracy: 0.7752 - val_loss: 0.5227 - val_accuracy: 0.7999\n",
      "Epoch 64/100\n",
      "1243/1243 [==============================] - ETA: 0s - loss: 0.5715 - accuracy: 0.7761INFO:tensorflow:Assets written to: model_tesis\\assets\n"
     ]
    },
    {
     "name": "stderr",
     "output_type": "stream",
     "text": [
      "INFO:tensorflow:Assets written to: model_tesis\\assets\n"
     ]
    },
    {
     "name": "stdout",
     "output_type": "stream",
     "text": [
      "1243/1243 [==============================] - 49s 40ms/step - loss: 0.5715 - accuracy: 0.7761 - val_loss: 0.5215 - val_accuracy: 0.7998\n",
      "Epoch 65/100\n",
      "1243/1243 [==============================] - ETA: 0s - loss: 0.5704 - accuracy: 0.7761INFO:tensorflow:Assets written to: model_tesis\\assets\n"
     ]
    },
    {
     "name": "stderr",
     "output_type": "stream",
     "text": [
      "INFO:tensorflow:Assets written to: model_tesis\\assets\n"
     ]
    },
    {
     "name": "stdout",
     "output_type": "stream",
     "text": [
      "1243/1243 [==============================] - 49s 39ms/step - loss: 0.5704 - accuracy: 0.7761 - val_loss: 0.5210 - val_accuracy: 0.8017\n",
      "Epoch 66/100\n",
      "1243/1243 [==============================] - 47s 38ms/step - loss: 0.5702 - accuracy: 0.7764 - val_loss: 0.5218 - val_accuracy: 0.8006\n",
      "Epoch 67/100\n",
      "1243/1243 [==============================] - ETA: 0s - loss: 0.5693 - accuracy: 0.7770INFO:tensorflow:Assets written to: model_tesis\\assets\n"
     ]
    },
    {
     "name": "stderr",
     "output_type": "stream",
     "text": [
      "INFO:tensorflow:Assets written to: model_tesis\\assets\n"
     ]
    },
    {
     "name": "stdout",
     "output_type": "stream",
     "text": [
      "1243/1243 [==============================] - 49s 39ms/step - loss: 0.5693 - accuracy: 0.7770 - val_loss: 0.5198 - val_accuracy: 0.8031\n",
      "Epoch 68/100\n",
      "1243/1243 [==============================] - ETA: 0s - loss: 0.5669 - accuracy: 0.7775INFO:tensorflow:Assets written to: model_tesis\\assets\n"
     ]
    },
    {
     "name": "stderr",
     "output_type": "stream",
     "text": [
      "INFO:tensorflow:Assets written to: model_tesis\\assets\n"
     ]
    },
    {
     "name": "stdout",
     "output_type": "stream",
     "text": [
      "1243/1243 [==============================] - 49s 40ms/step - loss: 0.5669 - accuracy: 0.7775 - val_loss: 0.5149 - val_accuracy: 0.8027\n",
      "Epoch 69/100\n",
      "1243/1243 [==============================] - 48s 39ms/step - loss: 0.5662 - accuracy: 0.7779 - val_loss: 0.5168 - val_accuracy: 0.8025\n",
      "Epoch 70/100\n",
      "1242/1243 [============================>.] - ETA: 0s - loss: 0.5660 - accuracy: 0.7786INFO:tensorflow:Assets written to: model_tesis\\assets\n"
     ]
    },
    {
     "name": "stderr",
     "output_type": "stream",
     "text": [
      "INFO:tensorflow:Assets written to: model_tesis\\assets\n"
     ]
    },
    {
     "name": "stdout",
     "output_type": "stream",
     "text": [
      "1243/1243 [==============================] - 50s 40ms/step - loss: 0.5660 - accuracy: 0.7786 - val_loss: 0.5147 - val_accuracy: 0.8044\n",
      "Epoch 71/100\n",
      "1242/1243 [============================>.] - ETA: 0s - loss: 0.5643 - accuracy: 0.7791INFO:tensorflow:Assets written to: model_tesis\\assets\n"
     ]
    },
    {
     "name": "stderr",
     "output_type": "stream",
     "text": [
      "INFO:tensorflow:Assets written to: model_tesis\\assets\n"
     ]
    },
    {
     "name": "stdout",
     "output_type": "stream",
     "text": [
      "1243/1243 [==============================] - 50s 40ms/step - loss: 0.5644 - accuracy: 0.7791 - val_loss: 0.5127 - val_accuracy: 0.8055\n",
      "Epoch 72/100\n",
      "1243/1243 [==============================] - ETA: 0s - loss: 0.5631 - accuracy: 0.7798INFO:tensorflow:Assets written to: model_tesis\\assets\n"
     ]
    },
    {
     "name": "stderr",
     "output_type": "stream",
     "text": [
      "INFO:tensorflow:Assets written to: model_tesis\\assets\n"
     ]
    },
    {
     "name": "stdout",
     "output_type": "stream",
     "text": [
      "1243/1243 [==============================] - 49s 40ms/step - loss: 0.5631 - accuracy: 0.7798 - val_loss: 0.5101 - val_accuracy: 0.8055\n",
      "Epoch 73/100\n",
      "1243/1243 [==============================] - ETA: 0s - loss: 0.5625 - accuracy: 0.7805INFO:tensorflow:Assets written to: model_tesis\\assets\n"
     ]
    },
    {
     "name": "stderr",
     "output_type": "stream",
     "text": [
      "INFO:tensorflow:Assets written to: model_tesis\\assets\n"
     ]
    },
    {
     "name": "stdout",
     "output_type": "stream",
     "text": [
      "1243/1243 [==============================] - 49s 40ms/step - loss: 0.5625 - accuracy: 0.7805 - val_loss: 0.5092 - val_accuracy: 0.8055\n",
      "Epoch 74/100\n",
      "1243/1243 [==============================] - 48s 38ms/step - loss: 0.5614 - accuracy: 0.7803 - val_loss: 0.5106 - val_accuracy: 0.8055\n",
      "Epoch 75/100\n",
      "1243/1243 [==============================] - ETA: 0s - loss: 0.5600 - accuracy: 0.7815INFO:tensorflow:Assets written to: model_tesis\\assets\n"
     ]
    },
    {
     "name": "stderr",
     "output_type": "stream",
     "text": [
      "INFO:tensorflow:Assets written to: model_tesis\\assets\n"
     ]
    },
    {
     "name": "stdout",
     "output_type": "stream",
     "text": [
      "1243/1243 [==============================] - 49s 39ms/step - loss: 0.5600 - accuracy: 0.7815 - val_loss: 0.5087 - val_accuracy: 0.8056\n",
      "Epoch 76/100\n",
      "1243/1243 [==============================] - ETA: 0s - loss: 0.5600 - accuracy: 0.7809INFO:tensorflow:Assets written to: model_tesis\\assets\n"
     ]
    },
    {
     "name": "stderr",
     "output_type": "stream",
     "text": [
      "INFO:tensorflow:Assets written to: model_tesis\\assets\n"
     ]
    },
    {
     "name": "stdout",
     "output_type": "stream",
     "text": [
      "1243/1243 [==============================] - 50s 40ms/step - loss: 0.5600 - accuracy: 0.7809 - val_loss: 0.5069 - val_accuracy: 0.8076\n",
      "Epoch 77/100\n",
      "1242/1243 [============================>.] - ETA: 0s - loss: 0.5583 - accuracy: 0.7821INFO:tensorflow:Assets written to: model_tesis\\assets\n"
     ]
    },
    {
     "name": "stderr",
     "output_type": "stream",
     "text": [
      "INFO:tensorflow:Assets written to: model_tesis\\assets\n"
     ]
    },
    {
     "name": "stdout",
     "output_type": "stream",
     "text": [
      "1243/1243 [==============================] - 50s 40ms/step - loss: 0.5584 - accuracy: 0.7820 - val_loss: 0.5029 - val_accuracy: 0.8092\n",
      "Epoch 78/100\n",
      "1243/1243 [==============================] - 48s 39ms/step - loss: 0.5580 - accuracy: 0.7818 - val_loss: 0.5036 - val_accuracy: 0.8088\n",
      "Epoch 79/100\n",
      "1243/1243 [==============================] - 48s 38ms/step - loss: 0.5580 - accuracy: 0.7820 - val_loss: 0.5045 - val_accuracy: 0.8084\n",
      "Epoch 80/100\n",
      "1243/1243 [==============================] - ETA: 0s - loss: 0.5566 - accuracy: 0.7826INFO:tensorflow:Assets written to: model_tesis\\assets\n"
     ]
    },
    {
     "name": "stderr",
     "output_type": "stream",
     "text": [
      "INFO:tensorflow:Assets written to: model_tesis\\assets\n"
     ]
    },
    {
     "name": "stdout",
     "output_type": "stream",
     "text": [
      "1243/1243 [==============================] - 49s 40ms/step - loss: 0.5566 - accuracy: 0.7826 - val_loss: 0.5009 - val_accuracy: 0.8096\n",
      "Epoch 81/100\n",
      "1243/1243 [==============================] - 48s 39ms/step - loss: 0.5553 - accuracy: 0.7833 - val_loss: 0.5017 - val_accuracy: 0.8103\n",
      "Epoch 82/100\n",
      "1243/1243 [==============================] - 48s 39ms/step - loss: 0.5537 - accuracy: 0.7838 - val_loss: 0.5011 - val_accuracy: 0.8101\n",
      "Epoch 83/100\n",
      "1243/1243 [==============================] - ETA: 0s - loss: 0.5533 - accuracy: 0.7838INFO:tensorflow:Assets written to: model_tesis\\assets\n"
     ]
    },
    {
     "name": "stderr",
     "output_type": "stream",
     "text": [
      "INFO:tensorflow:Assets written to: model_tesis\\assets\n"
     ]
    },
    {
     "name": "stdout",
     "output_type": "stream",
     "text": [
      "1243/1243 [==============================] - 49s 40ms/step - loss: 0.5533 - accuracy: 0.7838 - val_loss: 0.4974 - val_accuracy: 0.8134\n",
      "Epoch 84/100\n",
      "1243/1243 [==============================] - 48s 38ms/step - loss: 0.5528 - accuracy: 0.7843 - val_loss: 0.4981 - val_accuracy: 0.8116\n",
      "Epoch 85/100\n",
      "1242/1243 [============================>.] - ETA: 0s - loss: 0.5518 - accuracy: 0.7849INFO:tensorflow:Assets written to: model_tesis\\assets\n"
     ]
    },
    {
     "name": "stderr",
     "output_type": "stream",
     "text": [
      "INFO:tensorflow:Assets written to: model_tesis\\assets\n"
     ]
    },
    {
     "name": "stdout",
     "output_type": "stream",
     "text": [
      "1243/1243 [==============================] - 49s 39ms/step - loss: 0.5519 - accuracy: 0.7849 - val_loss: 0.4929 - val_accuracy: 0.8149\n",
      "Epoch 86/100\n",
      "1243/1243 [==============================] - 48s 39ms/step - loss: 0.5508 - accuracy: 0.7853 - val_loss: 0.4967 - val_accuracy: 0.8117\n",
      "Epoch 87/100\n",
      "1242/1243 [============================>.] - ETA: 0s - loss: 0.5500 - accuracy: 0.7856INFO:tensorflow:Assets written to: model_tesis\\assets\n"
     ]
    },
    {
     "name": "stderr",
     "output_type": "stream",
     "text": [
      "INFO:tensorflow:Assets written to: model_tesis\\assets\n"
     ]
    },
    {
     "name": "stdout",
     "output_type": "stream",
     "text": [
      "1243/1243 [==============================] - 49s 40ms/step - loss: 0.5499 - accuracy: 0.7856 - val_loss: 0.4917 - val_accuracy: 0.8157\n",
      "Epoch 88/100\n",
      "1243/1243 [==============================] - 48s 39ms/step - loss: 0.5502 - accuracy: 0.7856 - val_loss: 0.4955 - val_accuracy: 0.8129\n",
      "Epoch 89/100\n",
      "1242/1243 [============================>.] - ETA: 0s - loss: 0.5480 - accuracy: 0.7867INFO:tensorflow:Assets written to: model_tesis\\assets\n"
     ]
    },
    {
     "name": "stderr",
     "output_type": "stream",
     "text": [
      "INFO:tensorflow:Assets written to: model_tesis\\assets\n"
     ]
    },
    {
     "name": "stdout",
     "output_type": "stream",
     "text": [
      "1243/1243 [==============================] - 50s 40ms/step - loss: 0.5480 - accuracy: 0.7867 - val_loss: 0.4909 - val_accuracy: 0.8166\n",
      "Epoch 90/100\n",
      "1242/1243 [============================>.] - ETA: 0s - loss: 0.5480 - accuracy: 0.7866INFO:tensorflow:Assets written to: model_tesis\\assets\n"
     ]
    },
    {
     "name": "stderr",
     "output_type": "stream",
     "text": [
      "INFO:tensorflow:Assets written to: model_tesis\\assets\n"
     ]
    },
    {
     "name": "stdout",
     "output_type": "stream",
     "text": [
      "1243/1243 [==============================] - 49s 40ms/step - loss: 0.5480 - accuracy: 0.7866 - val_loss: 0.4864 - val_accuracy: 0.8172\n",
      "Epoch 91/100\n",
      "1243/1243 [==============================] - ETA: 0s - loss: 0.5473 - accuracy: 0.7867INFO:tensorflow:Assets written to: model_tesis\\assets\n"
     ]
    },
    {
     "name": "stderr",
     "output_type": "stream",
     "text": [
      "INFO:tensorflow:Assets written to: model_tesis\\assets\n"
     ]
    },
    {
     "name": "stdout",
     "output_type": "stream",
     "text": [
      "1243/1243 [==============================] - 1982s 2s/step - loss: 0.5473 - accuracy: 0.7867 - val_loss: 0.4862 - val_accuracy: 0.8166\n",
      "Epoch 92/100\n",
      "1243/1243 [==============================] - 55s 44ms/step - loss: 0.5469 - accuracy: 0.7872 - val_loss: 0.4884 - val_accuracy: 0.8169\n",
      "Epoch 93/100\n",
      "1243/1243 [==============================] - 54s 43ms/step - loss: 0.5455 - accuracy: 0.7881 - val_loss: 0.4869 - val_accuracy: 0.8174\n",
      "Epoch 94/100\n",
      "1243/1243 [==============================] - ETA: 0s - loss: 0.5450 - accuracy: 0.7886INFO:tensorflow:Assets written to: model_tesis\\assets\n"
     ]
    },
    {
     "name": "stderr",
     "output_type": "stream",
     "text": [
      "INFO:tensorflow:Assets written to: model_tesis\\assets\n"
     ]
    },
    {
     "name": "stdout",
     "output_type": "stream",
     "text": [
      "1243/1243 [==============================] - 55s 44ms/step - loss: 0.5450 - accuracy: 0.7886 - val_loss: 0.4849 - val_accuracy: 0.8191\n",
      "Epoch 95/100\n",
      "1243/1243 [==============================] - ETA: 0s - loss: 0.5437 - accuracy: 0.7888INFO:tensorflow:Assets written to: model_tesis\\assets\n"
     ]
    },
    {
     "name": "stderr",
     "output_type": "stream",
     "text": [
      "INFO:tensorflow:Assets written to: model_tesis\\assets\n"
     ]
    },
    {
     "name": "stdout",
     "output_type": "stream",
     "text": [
      "1243/1243 [==============================] - 55s 44ms/step - loss: 0.5437 - accuracy: 0.7888 - val_loss: 0.4820 - val_accuracy: 0.8188\n",
      "Epoch 96/100\n",
      "1243/1243 [==============================] - 54s 43ms/step - loss: 0.5431 - accuracy: 0.7891 - val_loss: 0.4855 - val_accuracy: 0.8180\n",
      "Epoch 97/100\n",
      "1243/1243 [==============================] - ETA: 0s - loss: 0.5416 - accuracy: 0.7897INFO:tensorflow:Assets written to: model_tesis\\assets\n"
     ]
    },
    {
     "name": "stderr",
     "output_type": "stream",
     "text": [
      "INFO:tensorflow:Assets written to: model_tesis\\assets\n"
     ]
    },
    {
     "name": "stdout",
     "output_type": "stream",
     "text": [
      "1243/1243 [==============================] - 55s 44ms/step - loss: 0.5416 - accuracy: 0.7897 - val_loss: 0.4815 - val_accuracy: 0.8185\n",
      "Epoch 98/100\n",
      "1242/1243 [============================>.] - ETA: 0s - loss: 0.5418 - accuracy: 0.7895INFO:tensorflow:Assets written to: model_tesis\\assets\n"
     ]
    },
    {
     "name": "stderr",
     "output_type": "stream",
     "text": [
      "INFO:tensorflow:Assets written to: model_tesis\\assets\n"
     ]
    },
    {
     "name": "stdout",
     "output_type": "stream",
     "text": [
      "1243/1243 [==============================] - 55s 44ms/step - loss: 0.5418 - accuracy: 0.7895 - val_loss: 0.4800 - val_accuracy: 0.8201\n",
      "Epoch 99/100\n",
      "1243/1243 [==============================] - 54s 43ms/step - loss: 0.5403 - accuracy: 0.7904 - val_loss: 0.4809 - val_accuracy: 0.8200\n",
      "Epoch 100/100\n",
      "1243/1243 [==============================] - ETA: 0s - loss: 0.5391 - accuracy: 0.7911INFO:tensorflow:Assets written to: model_tesis\\assets\n"
     ]
    },
    {
     "name": "stderr",
     "output_type": "stream",
     "text": [
      "INFO:tensorflow:Assets written to: model_tesis\\assets\n"
     ]
    },
    {
     "name": "stdout",
     "output_type": "stream",
     "text": [
      "1243/1243 [==============================] - 55s 44ms/step - loss: 0.5391 - accuracy: 0.7911 - val_loss: 0.4790 - val_accuracy: 0.8199\n"
     ]
    }
   ],
   "source": [
    "Path = \"model_tesis\"\n",
    "Dir = \"my_log_dir\"   \n",
    "Call_B_Fun = callbacks(Path,Dir)\n",
    "\n",
    "batch_size = 512            \n",
    "epochs = 100                \n",
    "\n",
    "#ENTRENANDO Y VALIDANDO\n",
    "history = model.fit(x_train, y_train,\n",
    "                    batch_size=batch_size, epochs = epochs,\n",
    "                    validation_split = 0.2, callbacks=Call_B_Fun)\n",
    "\n",
    "#METRICAS CON EL CONJUNTO TOMADO DE VALIDACION\n",
    "loss = history.history['loss']\n",
    "val_loss = history.history['val_loss']\n",
    "acc = history.history['accuracy']\n",
    "val_acc = history.history['val_accuracy']\n",
    "#plot(loss,val_loss,acc,val_acc)"
   ]
  },
  {
   "cell_type": "code",
   "execution_count": 17,
   "metadata": {},
   "outputs": [
    {
     "name": "stdout",
     "output_type": "stream",
     "text": [
      "389/389 - 4s - loss: 0.4811 - accuracy: 0.8184 - 4s/epoch - 10ms/step\n",
      "\n",
      "Test loss : 48.10808002948761 %\n",
      "Test accuracy : 81.84328079223633 %\n",
      "['loss', 'accuracy']\n"
     ]
    }
   ],
   "source": [
    "evaluation = model.evaluate(x_test,  y_test,batch_size=batch_size, verbose=2)\n",
    "print()\n",
    "print(\"Test loss :\",evaluation[0]*100,\"%\")\n",
    "print(\"Test accuracy :\",evaluation[1]*100,\"%\")\n",
    "print( model.metrics_names) #a ver si puede sacarse el f1 directo de acá"
   ]
  },
  {
   "cell_type": "code",
   "execution_count": 18,
   "metadata": {},
   "outputs": [
    {
     "name": "stdout",
     "output_type": "stream",
     "text": [
      "6215/6215 [==============================] - 18s 3ms/step\n",
      "[[7.1243542e-01 3.6099292e-02 1.3127770e-01 1.2018756e-01]\n",
      " [1.3914869e-04 7.7875257e-02 3.4174162e-01 5.8024400e-01]\n",
      " [9.1072589e-01 1.5601973e-02 4.9497657e-02 2.4174461e-02]\n",
      " [4.2157714e-07 7.8461193e-02 9.1993767e-01 1.6007057e-03]\n",
      " [5.2424171e-04 1.4389628e-01 8.0290788e-01 5.2671678e-02]]\n"
     ]
    }
   ],
   "source": [
    "predicted_y = model.predict(x_test)\n",
    "predicted_y_pre = predicted_y\n",
    "print(predicted_y[:5])"
   ]
  },
  {
   "cell_type": "code",
   "execution_count": 19,
   "metadata": {},
   "outputs": [
    {
     "name": "stdout",
     "output_type": "stream",
     "text": [
      "0\n",
      "3\n",
      "0\n",
      "2\n",
      "2\n",
      "[[1. 0. 0. 0.]\n",
      " [0. 0. 0. 1.]\n",
      " [1. 0. 0. 0.]\n",
      " [0. 0. 1. 0.]\n",
      " [0. 0. 1. 0.]]\n",
      "[[1. 0. 0. 0.]\n",
      " [0. 0. 1. 0.]\n",
      " [1. 0. 0. 0.]\n",
      " [0. 0. 1. 0.]\n",
      " [0. 0. 1. 0.]]\n"
     ]
    }
   ],
   "source": [
    "j = 0\n",
    "for i in predicted_y:\n",
    "  i = np.argmax(i)\n",
    "  for m in range(len(predicted_y[j])):\n",
    "    if m == i:\n",
    "      predicted_y[j][m] = 1.\n",
    "    else:\n",
    "      predicted_y[j][m] = 0.\n",
    "  if j < 5:\n",
    "    print(i)\n",
    "  j = j+1\n",
    "\n",
    "print(predicted_y[:5])\n",
    "print(y_test[:5])"
   ]
  },
  {
   "cell_type": "code",
   "execution_count": 20,
   "metadata": {},
   "outputs": [
    {
     "name": "stdout",
     "output_type": "stream",
     "text": [
      "Test F1 Score: 0.8150262631976514\n"
     ]
    }
   ],
   "source": [
    "from sklearn.metrics import accuracy_score, f1_score\n",
    "\n",
    "# calculate F1 score\n",
    "f1_test = f1_score(y_test, predicted_y, average='weighted')\n",
    "\n",
    "print(\"Test F1 Score:\", f1_test)"
   ]
  },
  {
   "cell_type": "code",
   "execution_count": 21,
   "metadata": {},
   "outputs": [
    {
     "data": {
      "image/png": "[encoded data removed]",
      "text/plain": [
       "<Figure size 640x480 with 1 Axes>"
      ]
     },
     "metadata": {},
     "output_type": "display_data"
    }
   ],
   "source": [
    "# Entrenamiento y prueba del gráfico de pérdidas\n",
    "plt.plot(history.history['loss'], label='Perdida de entrenamiento')\n",
    "plt.plot(history.history['val_loss'], label='Perdida del test')\n",
    "plt.legend()\n",
    "plt.show()"
   ]
  },
  {
   "cell_type": "code",
   "execution_count": 22,
   "metadata": {},
   "outputs": [
    {
     "name": "stdout",
     "output_type": "stream",
     "text": [
      "[[1. 0. 0. 0.]\n",
      " [0. 0. 0. 1.]\n",
      " [1. 0. 0. 0.]\n",
      " [0. 0. 1. 0.]\n",
      " [0. 0. 1. 0.]]\n",
      "[[1. 0. 0. 0.]\n",
      " [0. 0. 1. 0.]\n",
      " [1. 0. 0. 0.]\n",
      " [0. 0. 1. 0.]\n",
      " [0. 0. 1. 0.]]\n"
     ]
    }
   ],
   "source": [
    "print(predicted_y[:5])\n",
    "print(y_test[:5])"
   ]
  },
  {
   "cell_type": "code",
   "execution_count": 25,
   "metadata": {},
   "outputs": [
    {
     "name": "stdout",
     "output_type": "stream",
     "text": [
      "[[47382   462   841  1248]\n",
      " [ 2455 32109  7156  7162]\n",
      " [ 3651  3643 41013  1238]\n",
      " [ 3663  3130  1458 42252]]\n"
     ]
    }
   ],
   "source": [
    "from sklearn.metrics import confusion_matrix\n",
    "from sklearn.metrics import ConfusionMatrixDisplay\n",
    "\n",
    "x=confusion_matrix(np.argmax(y_test, axis=1), np.argmax(predicted_y, axis=1))  #Los argumentos aqui son np.arrays\n",
    "print(x)"
   ]
  },
  {
   "cell_type": "code",
   "execution_count": 26,
   "metadata": {},
   "outputs": [
    {
     "data": {
      "image/png": "[encoded data removed]",
      "text/plain": [
       "<Figure size 640x480 with 1 Axes>"
      ]
     },
     "metadata": {},
     "output_type": "display_data"
    }
   ],
   "source": [
    "#Generamos la matriz de confusion\n",
    "labels = ['Gesto 1', 'Gesto 2', 'Gesto 3', 'Gesto 4'] # Etiquetas correctas para las clases\n",
    "cm_display = ConfusionMatrixDisplay(confusion_matrix = x, display_labels=labels)\n",
    "\n",
    "cm_display.plot(colorbar=False)\n",
    "plt.xlabel('Predicciones')\n",
    "plt.ylabel('Etiquetas Verdaderas')\n",
    "plt.show()"
   ]
  },
  {
   "cell_type": "code",
   "execution_count": 27,
   "metadata": {},
   "outputs": [
    {
     "data": {
      "image/png": "[encoded data removed]",
      "text/plain": [
       "<Figure size 640x480 with 1 Axes>"
      ]
     },
     "metadata": {},
     "output_type": "display_data"
    }
   ],
   "source": [
    "# Normaliza la matriz de confusión para obtener porcentajes\n",
    "cm_norm = x.astype('float') / x.sum(axis=1)[:, np.newaxis] * 100\n",
    "\n",
    "# Calcular la suma de cada fila para obtener el número total de predicciones para cada clase\n",
    "total_predictions_per_class = x.sum(axis=1)\n",
    "\n",
    "# Calcular el porcentaje que representa cada fila en la cantidad total de datos del conjunto\n",
    "total_data = total_predictions_per_class.sum()\n",
    "percentages_per_class = (total_predictions_per_class / total_data) * 100\n",
    "\n",
    "# Crear una lista de etiquetas con los porcentajes\n",
    "labels_with_percentages = [f'{label} \\n({percent:.2f}% del total)' for label, percent in zip(labels, percentages_per_class)]\n",
    "\n",
    "cm_display = ConfusionMatrixDisplay(confusion_matrix=cm_norm, display_labels=labels_with_percentages)\n",
    "\n",
    "cm_display.plot(cmap='Blues',xticks_rotation='vertical', colorbar=False)  # Lo colocamos azul para distinguir\n",
    "\n",
    "plt.xlabel('Predicciones (%)')\n",
    "plt.ylabel('Etiquetas Verdaderas (%)')\n",
    "\n",
    "\n",
    "plt.show()"
   ]
  },
  {
   "cell_type": "code",
   "execution_count": 29,
   "metadata": {},
   "outputs": [
    {
     "data": {
      "image/png": "[encoded data removed]",
      "text/plain": [
       "<Figure size 640x480 with 1 Axes>"
      ]
     },
     "metadata": {},
     "output_type": "display_data"
    }
   ],
   "source": [
    "#PLOTEA LA CURVA ROC DE LA MATRIZ DE CONFUSION\n",
    "from sklearn.preprocessing import label_binarize\n",
    "from sklearn.metrics import roc_curve, auc\n",
    "\n",
    "fpr = dict()\n",
    "tpr = dict()\n",
    "roc_auc = dict()\n",
    "\n",
    "test_y_bin = label_binarize(y_test, classes=[1, 2, 3, 4])\n",
    "predictions_onehot= label_binarize(predicted_y, classes=[1, 2, 3, 4])\n",
    "\n",
    "for i in range(4):  # 4 clases o gestos para clasificars\n",
    "    fpr[i], tpr[i], _ = roc_curve(test_y_bin[:, i], predictions_onehot[:, i])  # Suponiendo que 'y_true' y 'y_scores' son matrices con forma (n_samples, num_classes)    roc_auc[i] = auc(fpr[i], tpr[i])\n",
    "\n",
    "# Plotea curva ROC para cada clase\n",
    "plt.figure()\n",
    "colors = ['blue', 'red', 'green', 'purple']  # Ajusta colores\n",
    "for i, color in zip(range(4), colors):\n",
    "    plt.plot(fpr[i], tpr[i], color=color, lw=2, label='ROC curve (class {0}) (area = {1:0.2f})'.format(i+1, roc_auc[i]))\n",
    "\n",
    "plt.plot([0, 1], [0, 1], color='gray', lw=2, linestyle='--')\n",
    "plt.xlim([0.0, 1.0])\n",
    "plt.ylim([0.0, 1.05])\n",
    "plt.xlabel('Tasa de Falsos positivos')\n",
    "plt.ylabel('Tasa de Verdaderos positivos')\n",
    "plt.title('Curva ROC (Receiver Operating Characteristic) para el modelo con Red Neuronal')\n",
    "plt.legend(loc=\"lower right\")\n",
    "plt.show()"
   ]
  },
  {
   "cell_type": "code",
   "execution_count": 30,
   "metadata": {},
   "outputs": [
    {
     "name": "stdout",
     "output_type": "stream",
     "text": [
      "6215/6215 [==============================] - 22s 4ms/step\n",
      "Predicted Class:  2\n",
      "Actual Class:  2\n"
     ]
    }
   ],
   "source": [
    "#AHORA PREDICIENDO DE FORMA INDIVIDUAL\n",
    "predict = 124\n",
    "a = np.argmax(model.predict(x_test)[predict])\n",
    "print(\"Predicted Class: \",a)\n",
    "print(\"Actual Class: \",np.argmax(y_test[predict]))"
   ]
  }
 ],
 "metadata": {
  "kernelspec": {
   "display_name": "Python 3 (ipykernel)",
   "language": "python",
   "name": "python3"
  },
  "language_info": {
   "codemirror_mode": {
    "name": "ipython",
    "version": 3
   },
   "file_extension": ".py",
   "mimetype": "text/x-python",
   "name": "python",
   "nbconvert_exporter": "python",
   "pygments_lexer": "ipython3",
   "version": "3.11.5"
  }
 },
 "nbformat": 4,
 "nbformat_minor": 2
}
